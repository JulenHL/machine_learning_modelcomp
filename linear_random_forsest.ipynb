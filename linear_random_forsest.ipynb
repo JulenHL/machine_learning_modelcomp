{
 "cells": [
  {
   "cell_type": "markdown",
   "metadata": {},
   "source": [
    "# TomTom Data Science assignement"
   ]
  },
  {
   "cell_type": "code",
   "execution_count": 7,
   "metadata": {},
   "outputs": [
    {
     "data": {
      "text/plain": [
       "'/home/julien/Documents/tomtom/dataset_tomtom'"
      ]
     },
     "execution_count": 7,
     "metadata": {},
     "output_type": "execute_result"
    }
   ],
   "source": [
    "pwd"
   ]
  },
  {
   "cell_type": "code",
   "execution_count": 1,
   "metadata": {},
   "outputs": [
    {
     "data": {
      "text/plain": [
       "'/home/julien/Documents/tomtom/dataset_tomtom'"
      ]
     },
     "execution_count": 1,
     "metadata": {},
     "output_type": "execute_result"
    }
   ],
   "source": [
    "import os\n",
    "\n",
    "# Set working directory\n",
    "work_dir = \"/home/julien/Documents/tomtom/dataset_tomtom\"\n",
    "#os.getcwd()\n",
    "os.chdir(work_dir)\n",
    "os.getcwd()"
   ]
  },
  {
   "cell_type": "code",
   "execution_count": 2,
   "metadata": {},
   "outputs": [],
   "source": [
    "import pandas as pd\n",
    "import numpy as np\n",
    "import matplotlib.pyplot as plt\n",
    "\n",
    "# Import dataset\n",
    "#files = os.listdir(os.curdir)\n",
    "file = \"dataset.csv\"\n",
    "# Safety net for classic missing value labels\n",
    "missing_values = [\"n/a\", \"na\", \"--\"]\n",
    "imported_dat = pd.read_csv(file, na_values = missing_values)\n",
    "\n",
    "# Isolate the labels in separate array\n",
    "target = imported_dat['Label']\n",
    "\n",
    "# Keep column of unknown data in imported array\n",
    "full_dataset = imported_dat\n",
    "imported_dat = imported_dat.iloc[:,0:11]\n",
    "feature_list = list(imported_dat.columns)"
   ]
  },
  {
   "cell_type": "markdown",
   "metadata": {},
   "source": [
    "## 1. Descriptive analysis of the dataset"
   ]
  },
  {
   "cell_type": "code",
   "execution_count": 10,
   "metadata": {},
   "outputs": [
    {
     "data": {
      "text/html": [
       "<div>\n",
       "<style scoped>\n",
       "    .dataframe tbody tr th:only-of-type {\n",
       "        vertical-align: middle;\n",
       "    }\n",
       "\n",
       "    .dataframe tbody tr th {\n",
       "        vertical-align: top;\n",
       "    }\n",
       "\n",
       "    .dataframe thead th {\n",
       "        text-align: right;\n",
       "    }\n",
       "</style>\n",
       "<table border=\"1\" class=\"dataframe\">\n",
       "  <thead>\n",
       "    <tr style=\"text-align: right;\">\n",
       "      <th></th>\n",
       "      <th>Fts_0</th>\n",
       "      <th>Fts_1</th>\n",
       "      <th>Fts_2</th>\n",
       "      <th>Fts_3</th>\n",
       "      <th>Fts_4</th>\n",
       "      <th>Fts_5</th>\n",
       "      <th>Fts_6</th>\n",
       "      <th>Fts_7</th>\n",
       "      <th>Fts_8</th>\n",
       "      <th>Fts_9</th>\n",
       "      <th>Fts_10</th>\n",
       "    </tr>\n",
       "  </thead>\n",
       "  <tbody>\n",
       "    <tr>\n",
       "      <th>0</th>\n",
       "      <td>50</td>\n",
       "      <td>21</td>\n",
       "      <td>9.516114</td>\n",
       "      <td>77</td>\n",
       "      <td>0</td>\n",
       "      <td>28</td>\n",
       "      <td>0</td>\n",
       "      <td>0.35</td>\n",
       "      <td>27</td>\n",
       "      <td>48</td>\n",
       "      <td>22</td>\n",
       "    </tr>\n",
       "    <tr>\n",
       "      <th>1</th>\n",
       "      <td>55</td>\n",
       "      <td>0</td>\n",
       "      <td>11.495707</td>\n",
       "      <td>92</td>\n",
       "      <td>0</td>\n",
       "      <td>0</td>\n",
       "      <td>26</td>\n",
       "      <td>0.35</td>\n",
       "      <td>36</td>\n",
       "      <td>92</td>\n",
       "      <td>56</td>\n",
       "    </tr>\n",
       "    <tr>\n",
       "      <th>2</th>\n",
       "      <td>53</td>\n",
       "      <td>0</td>\n",
       "      <td>8.509515</td>\n",
       "      <td>82</td>\n",
       "      <td>0</td>\n",
       "      <td>52</td>\n",
       "      <td>-5</td>\n",
       "      <td>0.35</td>\n",
       "      <td>29</td>\n",
       "      <td>30</td>\n",
       "      <td>2</td>\n",
       "    </tr>\n",
       "    <tr>\n",
       "      <th>3</th>\n",
       "      <td>37</td>\n",
       "      <td>0</td>\n",
       "      <td>8.491525</td>\n",
       "      <td>76</td>\n",
       "      <td>0</td>\n",
       "      <td>28</td>\n",
       "      <td>18</td>\n",
       "      <td>0.35</td>\n",
       "      <td>40</td>\n",
       "      <td>48</td>\n",
       "      <td>8</td>\n",
       "    </tr>\n",
       "    <tr>\n",
       "      <th>4</th>\n",
       "      <td>37</td>\n",
       "      <td>0</td>\n",
       "      <td>8.501128</td>\n",
       "      <td>79</td>\n",
       "      <td>0</td>\n",
       "      <td>34</td>\n",
       "      <td>-26</td>\n",
       "      <td>0.35</td>\n",
       "      <td>43</td>\n",
       "      <td>46</td>\n",
       "      <td>2</td>\n",
       "    </tr>\n",
       "    <tr>\n",
       "      <th>5</th>\n",
       "      <td>85</td>\n",
       "      <td>0</td>\n",
       "      <td>12.512742</td>\n",
       "      <td>88</td>\n",
       "      <td>-4</td>\n",
       "      <td>6</td>\n",
       "      <td>1</td>\n",
       "      <td>0.35</td>\n",
       "      <td>3</td>\n",
       "      <td>83</td>\n",
       "      <td>80</td>\n",
       "    </tr>\n",
       "    <tr>\n",
       "      <th>6</th>\n",
       "      <td>56</td>\n",
       "      <td>0</td>\n",
       "      <td>11.484501</td>\n",
       "      <td>81</td>\n",
       "      <td>0</td>\n",
       "      <td>-4</td>\n",
       "      <td>11</td>\n",
       "      <td>0.35</td>\n",
       "      <td>25</td>\n",
       "      <td>86</td>\n",
       "      <td>62</td>\n",
       "    </tr>\n",
       "    <tr>\n",
       "      <th>7</th>\n",
       "      <td>55</td>\n",
       "      <td>-1</td>\n",
       "      <td>8.506949</td>\n",
       "      <td>95</td>\n",
       "      <td>-3</td>\n",
       "      <td>54</td>\n",
       "      <td>-4</td>\n",
       "      <td>0.35</td>\n",
       "      <td>40</td>\n",
       "      <td>41</td>\n",
       "      <td>2</td>\n",
       "    </tr>\n",
       "    <tr>\n",
       "      <th>8</th>\n",
       "      <td>53</td>\n",
       "      <td>8</td>\n",
       "      <td>11.509974</td>\n",
       "      <td>77</td>\n",
       "      <td>0</td>\n",
       "      <td>28</td>\n",
       "      <td>0</td>\n",
       "      <td>0.35</td>\n",
       "      <td>23</td>\n",
       "      <td>48</td>\n",
       "      <td>24</td>\n",
       "    </tr>\n",
       "    <tr>\n",
       "      <th>9</th>\n",
       "      <td>37</td>\n",
       "      <td>0</td>\n",
       "      <td>8.494062</td>\n",
       "      <td>101</td>\n",
       "      <td>-7</td>\n",
       "      <td>28</td>\n",
       "      <td>0</td>\n",
       "      <td>0.35</td>\n",
       "      <td>64</td>\n",
       "      <td>73</td>\n",
       "      <td>8</td>\n",
       "    </tr>\n",
       "  </tbody>\n",
       "</table>\n",
       "</div>"
      ],
      "text/plain": [
       "   Fts_0  Fts_1      Fts_2  Fts_3  Fts_4  Fts_5  Fts_6  Fts_7  Fts_8  Fts_9  \\\n",
       "0     50     21   9.516114     77      0     28      0   0.35     27     48   \n",
       "1     55      0  11.495707     92      0      0     26   0.35     36     92   \n",
       "2     53      0   8.509515     82      0     52     -5   0.35     29     30   \n",
       "3     37      0   8.491525     76      0     28     18   0.35     40     48   \n",
       "4     37      0   8.501128     79      0     34    -26   0.35     43     46   \n",
       "5     85      0  12.512742     88     -4      6      1   0.35      3     83   \n",
       "6     56      0  11.484501     81      0     -4     11   0.35     25     86   \n",
       "7     55     -1   8.506949     95     -3     54     -4   0.35     40     41   \n",
       "8     53      8  11.509974     77      0     28      0   0.35     23     48   \n",
       "9     37      0   8.494062    101     -7     28      0   0.35     64     73   \n",
       "\n",
       "   Fts_10  \n",
       "0      22  \n",
       "1      56  \n",
       "2       2  \n",
       "3       8  \n",
       "4       2  \n",
       "5      80  \n",
       "6      62  \n",
       "7       2  \n",
       "8      24  \n",
       "9       8  "
      ]
     },
     "execution_count": 10,
     "metadata": {},
     "output_type": "execute_result"
    }
   ],
   "source": [
    "# First touch\n",
    "imported_dat.head(10)"
   ]
  },
  {
   "cell_type": "markdown",
   "metadata": {},
   "source": [
    "**At first glance, no categorical variable needing one-hot enconding. All looks quite continous**"
   ]
  },
  {
   "cell_type": "code",
   "execution_count": 11,
   "metadata": {
    "scrolled": false
   },
   "outputs": [
    {
     "data": {
      "text/html": [
       "<div>\n",
       "<style scoped>\n",
       "    .dataframe tbody tr th:only-of-type {\n",
       "        vertical-align: middle;\n",
       "    }\n",
       "\n",
       "    .dataframe tbody tr th {\n",
       "        vertical-align: top;\n",
       "    }\n",
       "\n",
       "    .dataframe thead th {\n",
       "        text-align: right;\n",
       "    }\n",
       "</style>\n",
       "<table border=\"1\" class=\"dataframe\">\n",
       "  <thead>\n",
       "    <tr style=\"text-align: right;\">\n",
       "      <th></th>\n",
       "      <th>Fts_0</th>\n",
       "      <th>Fts_1</th>\n",
       "      <th>Fts_2</th>\n",
       "      <th>Fts_3</th>\n",
       "      <th>Fts_4</th>\n",
       "      <th>Fts_5</th>\n",
       "      <th>Fts_6</th>\n",
       "      <th>Fts_7</th>\n",
       "      <th>Fts_8</th>\n",
       "      <th>Fts_9</th>\n",
       "      <th>Fts_10</th>\n",
       "    </tr>\n",
       "  </thead>\n",
       "  <tbody>\n",
       "    <tr>\n",
       "      <th>count</th>\n",
       "      <td>43500.000000</td>\n",
       "      <td>43500.000000</td>\n",
       "      <td>43500.000000</td>\n",
       "      <td>43500.000000</td>\n",
       "      <td>43500.000000</td>\n",
       "      <td>43500.000000</td>\n",
       "      <td>43500.000000</td>\n",
       "      <td>43500.000000</td>\n",
       "      <td>43500.000000</td>\n",
       "      <td>43500.000000</td>\n",
       "      <td>43500.000000</td>\n",
       "    </tr>\n",
       "    <tr>\n",
       "      <th>mean</th>\n",
       "      <td>48.249747</td>\n",
       "      <td>-0.205126</td>\n",
       "      <td>9.200491</td>\n",
       "      <td>85.341563</td>\n",
       "      <td>0.262736</td>\n",
       "      <td>34.528782</td>\n",
       "      <td>1.298276</td>\n",
       "      <td>6.352874</td>\n",
       "      <td>37.074552</td>\n",
       "      <td>50.899862</td>\n",
       "      <td>13.964598</td>\n",
       "    </tr>\n",
       "    <tr>\n",
       "      <th>std</th>\n",
       "      <td>12.252618</td>\n",
       "      <td>78.142770</td>\n",
       "      <td>1.354741</td>\n",
       "      <td>8.908602</td>\n",
       "      <td>41.004131</td>\n",
       "      <td>21.703409</td>\n",
       "      <td>179.486760</td>\n",
       "      <td>5.480359</td>\n",
       "      <td>13.135557</td>\n",
       "      <td>21.463250</td>\n",
       "      <td>25.648404</td>\n",
       "    </tr>\n",
       "    <tr>\n",
       "      <th>min</th>\n",
       "      <td>27.000000</td>\n",
       "      <td>-4821.000000</td>\n",
       "      <td>8.458566</td>\n",
       "      <td>21.000000</td>\n",
       "      <td>-3939.000000</td>\n",
       "      <td>-188.000000</td>\n",
       "      <td>-13839.000000</td>\n",
       "      <td>0.300000</td>\n",
       "      <td>-48.000000</td>\n",
       "      <td>-353.000000</td>\n",
       "      <td>-356.000000</td>\n",
       "    </tr>\n",
       "    <tr>\n",
       "      <th>25%</th>\n",
       "      <td>38.000000</td>\n",
       "      <td>0.000000</td>\n",
       "      <td>8.495225</td>\n",
       "      <td>79.000000</td>\n",
       "      <td>0.000000</td>\n",
       "      <td>26.000000</td>\n",
       "      <td>-5.000000</td>\n",
       "      <td>0.350000</td>\n",
       "      <td>31.000000</td>\n",
       "      <td>37.000000</td>\n",
       "      <td>0.000000</td>\n",
       "    </tr>\n",
       "    <tr>\n",
       "      <th>50%</th>\n",
       "      <td>45.000000</td>\n",
       "      <td>0.000000</td>\n",
       "      <td>8.503458</td>\n",
       "      <td>83.000000</td>\n",
       "      <td>0.000000</td>\n",
       "      <td>42.000000</td>\n",
       "      <td>0.000000</td>\n",
       "      <td>10.000000</td>\n",
       "      <td>39.000000</td>\n",
       "      <td>44.000000</td>\n",
       "      <td>2.000000</td>\n",
       "    </tr>\n",
       "    <tr>\n",
       "      <th>75%</th>\n",
       "      <td>55.000000</td>\n",
       "      <td>0.000000</td>\n",
       "      <td>8.516995</td>\n",
       "      <td>89.000000</td>\n",
       "      <td>0.000000</td>\n",
       "      <td>46.000000</td>\n",
       "      <td>5.000000</td>\n",
       "      <td>12.000000</td>\n",
       "      <td>42.000000</td>\n",
       "      <td>60.000000</td>\n",
       "      <td>14.000000</td>\n",
       "    </tr>\n",
       "    <tr>\n",
       "      <th>max</th>\n",
       "      <td>126.000000</td>\n",
       "      <td>5075.000000</td>\n",
       "      <td>14.521121</td>\n",
       "      <td>149.000000</td>\n",
       "      <td>3830.000000</td>\n",
       "      <td>436.000000</td>\n",
       "      <td>13148.000000</td>\n",
       "      <td>12.000000</td>\n",
       "      <td>105.000000</td>\n",
       "      <td>270.000000</td>\n",
       "      <td>266.000000</td>\n",
       "    </tr>\n",
       "  </tbody>\n",
       "</table>\n",
       "</div>"
      ],
      "text/plain": [
       "              Fts_0         Fts_1         Fts_2         Fts_3         Fts_4  \\\n",
       "count  43500.000000  43500.000000  43500.000000  43500.000000  43500.000000   \n",
       "mean      48.249747     -0.205126      9.200491     85.341563      0.262736   \n",
       "std       12.252618     78.142770      1.354741      8.908602     41.004131   \n",
       "min       27.000000  -4821.000000      8.458566     21.000000  -3939.000000   \n",
       "25%       38.000000      0.000000      8.495225     79.000000      0.000000   \n",
       "50%       45.000000      0.000000      8.503458     83.000000      0.000000   \n",
       "75%       55.000000      0.000000      8.516995     89.000000      0.000000   \n",
       "max      126.000000   5075.000000     14.521121    149.000000   3830.000000   \n",
       "\n",
       "              Fts_5         Fts_6         Fts_7         Fts_8         Fts_9  \\\n",
       "count  43500.000000  43500.000000  43500.000000  43500.000000  43500.000000   \n",
       "mean      34.528782      1.298276      6.352874     37.074552     50.899862   \n",
       "std       21.703409    179.486760      5.480359     13.135557     21.463250   \n",
       "min     -188.000000 -13839.000000      0.300000    -48.000000   -353.000000   \n",
       "25%       26.000000     -5.000000      0.350000     31.000000     37.000000   \n",
       "50%       42.000000      0.000000     10.000000     39.000000     44.000000   \n",
       "75%       46.000000      5.000000     12.000000     42.000000     60.000000   \n",
       "max      436.000000  13148.000000     12.000000    105.000000    270.000000   \n",
       "\n",
       "             Fts_10  \n",
       "count  43500.000000  \n",
       "mean      13.964598  \n",
       "std       25.648404  \n",
       "min     -356.000000  \n",
       "25%        0.000000  \n",
       "50%        2.000000  \n",
       "75%       14.000000  \n",
       "max      266.000000  "
      ]
     },
     "execution_count": 11,
     "metadata": {},
     "output_type": "execute_result"
    }
   ],
   "source": [
    "# Get a feeling for unknown data\n",
    "imported_dat.describe()"
   ]
  },
  {
   "cell_type": "markdown",
   "metadata": {},
   "source": [
    "### Target analysis\n",
    "**1.1 Let's first look at _the labels to predict_ (i.e., target) to get an idea of the type of model most likely to have a good fit**"
   ]
  },
  {
   "cell_type": "code",
   "execution_count": 176,
   "metadata": {
    "scrolled": true
   },
   "outputs": [
    {
     "data": {
      "image/png": "[encoded data removed]",
      "text/plain": [
       "<Figure size 720x720 with 2 Axes>"
      ]
     },
     "metadata": {
      "needs_background": "light"
     },
     "output_type": "display_data"
    }
   ],
   "source": [
    "# Get an idea of the labels to predict so as to start thinking of the right model to use for prediction\n",
    "fig, axes = plt.subplots(nrows=1, ncols=2, figsize=(10, 10))\n",
    "\n",
    "for i in range(2):\n",
    "        ax = axes[i]\n",
    "        if i == 0:\n",
    "            ax.hist(target)\n",
    "        else:\n",
    "            ax.boxplot(target)"
   ]
  },
  {
   "cell_type": "code",
   "execution_count": 177,
   "metadata": {},
   "outputs": [
    {
     "data": {
      "text/plain": [
       "Counter({2: 37, 4: 6748, 1: 34108, 5: 2458, 3: 132, 7: 11, 6: 6})"
      ]
     },
     "execution_count": 177,
     "metadata": {},
     "output_type": "execute_result"
    }
   ],
   "source": [
    "# Get actual counts to get an idea of low count values\n",
    "from collections import Counter\n",
    "import math\n",
    "Counter(target)"
   ]
  },
  {
   "cell_type": "code",
   "execution_count": 178,
   "metadata": {},
   "outputs": [
    {
     "data": {
      "text/plain": [
       "count    43500.000000\n",
       "mean         1.700529\n",
       "std          1.354648\n",
       "min          1.000000\n",
       "25%          1.000000\n",
       "50%          1.000000\n",
       "75%          1.000000\n",
       "max          7.000000\n",
       "Name: Label, dtype: float64"
      ]
     },
     "execution_count": 178,
     "metadata": {},
     "output_type": "execute_result"
    }
   ],
   "source": [
    "target.describe()"
   ]
  },
  {
   "cell_type": "code",
   "execution_count": 179,
   "metadata": {},
   "outputs": [
    {
     "data": {
      "text/plain": [
       "1.0"
      ]
     },
     "execution_count": 179,
     "metadata": {},
     "output_type": "execute_result"
    }
   ],
   "source": [
    "target.median()"
   ]
  },
  {
   "cell_type": "code",
   "execution_count": 288,
   "metadata": {},
   "outputs": [],
   "source": [
    "#Now get a feeling for how balanced the target is \n",
    "target_counts = target.value_counts()"
   ]
  },
  {
   "cell_type": "code",
   "execution_count": 289,
   "metadata": {},
   "outputs": [
    {
     "data": {
      "image/png": "[encoded data removed]",
      "text/plain": [
       "<Figure size 432x288 with 1 Axes>"
      ]
     },
     "metadata": {
      "needs_background": "light"
     },
     "output_type": "display_data"
    }
   ],
   "source": [
    "# display the count for each label\n",
    "target_counts.sort_index().plot(kind='bar',title='target label counts');"
   ]
  },
  {
   "cell_type": "markdown",
   "metadata": {},
   "source": [
    "<div class=\"alert alert-block alert-info\">\n",
    "<b>Intermediate Conclusion on target data:</b> <br> The distribution is quite skewed, and strongly bimodal. <br>\n",
    "Differences in mean and median & histogram suggest non normal distribution. <br>\n",
    "Quick label count of the target suggest that the target data is not well balanced, with an overwhelming majority of 1 labels. __Not optimal situation__\n",
    "</div>"
   ]
  },
  {
   "cell_type": "markdown",
   "metadata": {},
   "source": [
    "**1.2 Now let's look at the data we can use for our model**"
   ]
  },
  {
   "cell_type": "code",
   "execution_count": 12,
   "metadata": {},
   "outputs": [
    {
     "data": {
      "image/png": "[encoded data removed]",
      "text/plain": [
       "<Figure size 720x720 with 12 Axes>"
      ]
     },
     "metadata": {
      "needs_background": "light"
     },
     "output_type": "display_data"
    }
   ],
   "source": [
    "# First, hist the data to get an idea of distributions we are dealing with\n",
    "\n",
    "ncols = 3\n",
    "nrows = int(np.ceil(len(imported_dat.columns) / (1.0*ncols)))\n",
    "fig, axes = plt.subplots(nrows=nrows, ncols=ncols, figsize=(10, 10))\n",
    "nbins = 50\n",
    "counter = 0\n",
    "# Counter to remove unwanted subplots\n",
    "for i in range(nrows):\n",
    "    for j in range(ncols):\n",
    "        ax = axes[i][j]\n",
    "        \n",
    "        # Plot when we have columns left to plot\n",
    "        if counter < len(imported_dat.columns):\n",
    "            ax.hist(imported_dat[imported_dat.columns[counter]], bins=nbins,  alpha=0.5, label='{}'.format(imported_dat.columns[counter]))\n",
    "            ax.set_ylabel('counts')\n",
    "            leg = ax.legend(loc='upper right')\n",
    "        # Remove axis when we no longer have columns to plot\n",
    "        else:\n",
    "            ax.set_axis_off()\n",
    "\n",
    "        counter += 1"
   ]
  },
  {
   "cell_type": "code",
   "execution_count": 13,
   "metadata": {
    "scrolled": true
   },
   "outputs": [
    {
     "data": {
      "image/png": "[encoded data removed]",
      "text/plain": [
       "<Figure size 720x720 with 12 Axes>"
      ]
     },
     "metadata": {
      "needs_background": "light"
     },
     "output_type": "display_data"
    }
   ],
   "source": [
    "# I like to boxplot the data to get an idea of outliers and IQRs\n",
    "# In this case, hists of data vectors such as Fts_1 are not very informative\n",
    "# Copy paste of cell above to boxplot the columns\n",
    "ncols = 3\n",
    "nrows = int(np.ceil(len(imported_dat.columns) / (1.0*ncols)))\n",
    "fig, axes = plt.subplots(nrows=nrows, ncols=ncols, figsize=(10, 10))\n",
    "\n",
    "# Counter so we can remove unwated axes\n",
    "counter = 0\n",
    "for i in range(nrows):\n",
    "    for j in range(ncols):\n",
    "        ax = axes[i][j]\n",
    "        \n",
    "        # Plot when we have columns left\n",
    "        if counter < len(imported_dat.columns):\n",
    "            # bootstraping might not be important here but I find it often to increase safety in statistical analysis\n",
    "            ax.boxplot(imported_dat[imported_dat.columns[counter]], bootstrap = 1000,showmeans = True, meanline = True)\n",
    "            ax.set_ylabel('counts')\n",
    "        # Remove axis when we no longer have columns to plot\n",
    "        else:\n",
    "            ax.set_axis_off()\n",
    "\n",
    "        counter += 1"
   ]
  },
  {
   "cell_type": "markdown",
   "metadata": {},
   "source": [
    "<div class=\"alert alert-block alert-info\">\n",
    "<b>Intermediate Conclusion on vector data:</b> <br> Distributions show high peaks of data. <br>\n",
    "Based on hist & boxplot, vectors of potential interest for modeling are Fts0, Fts3, Fts5, Fts8, Fts9. <br>\n",
    "Fts_2 & Fts_7 will might show high correlation with target due to bimodality\n",
    "</div>"
   ]
  },
  {
   "cell_type": "markdown",
   "metadata": {},
   "source": [
    "**1.3 Explore relation between target and data vectors** "
   ]
  },
  {
   "cell_type": "code",
   "execution_count": 184,
   "metadata": {},
   "outputs": [
    {
     "data": {
      "text/html": [
       "<div>\n",
       "<style scoped>\n",
       "    .dataframe tbody tr th:only-of-type {\n",
       "        vertical-align: middle;\n",
       "    }\n",
       "\n",
       "    .dataframe tbody tr th {\n",
       "        vertical-align: top;\n",
       "    }\n",
       "\n",
       "    .dataframe thead th {\n",
       "        text-align: right;\n",
       "    }\n",
       "</style>\n",
       "<table border=\"1\" class=\"dataframe\">\n",
       "  <thead>\n",
       "    <tr style=\"text-align: right;\">\n",
       "      <th></th>\n",
       "      <th>Fts_0</th>\n",
       "      <th>Fts_1</th>\n",
       "      <th>Fts_2</th>\n",
       "      <th>Fts_3</th>\n",
       "      <th>Fts_4</th>\n",
       "      <th>Fts_5</th>\n",
       "      <th>Fts_6</th>\n",
       "      <th>Fts_7</th>\n",
       "      <th>Fts_8</th>\n",
       "      <th>Fts_9</th>\n",
       "      <th>Fts_10</th>\n",
       "      <th>Label</th>\n",
       "    </tr>\n",
       "  </thead>\n",
       "  <tbody>\n",
       "    <tr>\n",
       "      <th>Fts_0</th>\n",
       "      <td>1.000000</td>\n",
       "      <td>0.066365</td>\n",
       "      <td>0.737645</td>\n",
       "      <td>0.262622</td>\n",
       "      <td>-0.007774</td>\n",
       "      <td>-0.051460</td>\n",
       "      <td>0.007306</td>\n",
       "      <td>-0.008148</td>\n",
       "      <td>-0.757307</td>\n",
       "      <td>0.168417</td>\n",
       "      <td>0.526896</td>\n",
       "      <td>0.737641</td>\n",
       "    </tr>\n",
       "    <tr>\n",
       "      <th>Fts_1</th>\n",
       "      <td>0.066365</td>\n",
       "      <td>1.000000</td>\n",
       "      <td>-0.003946</td>\n",
       "      <td>-0.013422</td>\n",
       "      <td>-0.001609</td>\n",
       "      <td>0.000373</td>\n",
       "      <td>-0.001826</td>\n",
       "      <td>-0.003118</td>\n",
       "      <td>-0.070628</td>\n",
       "      <td>-0.005827</td>\n",
       "      <td>0.031235</td>\n",
       "      <td>-0.003978</td>\n",
       "    </tr>\n",
       "    <tr>\n",
       "      <th>Fts_2</th>\n",
       "      <td>0.737645</td>\n",
       "      <td>-0.003946</td>\n",
       "      <td>1.000000</td>\n",
       "      <td>0.145252</td>\n",
       "      <td>-0.003148</td>\n",
       "      <td>-0.430642</td>\n",
       "      <td>0.000742</td>\n",
       "      <td>-0.006220</td>\n",
       "      <td>-0.593947</td>\n",
       "      <td>0.505181</td>\n",
       "      <td>0.722684</td>\n",
       "      <td>0.999973</td>\n",
       "    </tr>\n",
       "    <tr>\n",
       "      <th>Fts_3</th>\n",
       "      <td>0.262622</td>\n",
       "      <td>-0.013422</td>\n",
       "      <td>0.145252</td>\n",
       "      <td>1.000000</td>\n",
       "      <td>0.042157</td>\n",
       "      <td>0.255181</td>\n",
       "      <td>-0.002909</td>\n",
       "      <td>-0.001934</td>\n",
       "      <td>0.430019</td>\n",
       "      <td>0.155282</td>\n",
       "      <td>-0.091279</td>\n",
       "      <td>0.145267</td>\n",
       "    </tr>\n",
       "    <tr>\n",
       "      <th>Fts_4</th>\n",
       "      <td>-0.007774</td>\n",
       "      <td>-0.001609</td>\n",
       "      <td>-0.003148</td>\n",
       "      <td>0.042157</td>\n",
       "      <td>1.000000</td>\n",
       "      <td>-0.004767</td>\n",
       "      <td>0.008286</td>\n",
       "      <td>0.006964</td>\n",
       "      <td>0.036169</td>\n",
       "      <td>0.022352</td>\n",
       "      <td>0.000410</td>\n",
       "      <td>-0.003180</td>\n",
       "    </tr>\n",
       "    <tr>\n",
       "      <th>Fts_5</th>\n",
       "      <td>-0.051460</td>\n",
       "      <td>0.000373</td>\n",
       "      <td>-0.430642</td>\n",
       "      <td>0.255181</td>\n",
       "      <td>-0.004767</td>\n",
       "      <td>1.000000</td>\n",
       "      <td>0.103159</td>\n",
       "      <td>0.000758</td>\n",
       "      <td>0.221277</td>\n",
       "      <td>-0.914963</td>\n",
       "      <td>-0.875212</td>\n",
       "      <td>-0.430602</td>\n",
       "    </tr>\n",
       "    <tr>\n",
       "      <th>Fts_6</th>\n",
       "      <td>0.007306</td>\n",
       "      <td>-0.001826</td>\n",
       "      <td>0.000742</td>\n",
       "      <td>-0.002909</td>\n",
       "      <td>0.008286</td>\n",
       "      <td>0.103159</td>\n",
       "      <td>1.000000</td>\n",
       "      <td>-0.005161</td>\n",
       "      <td>-0.008569</td>\n",
       "      <td>-0.105569</td>\n",
       "      <td>-0.083378</td>\n",
       "      <td>0.000707</td>\n",
       "    </tr>\n",
       "    <tr>\n",
       "      <th>Fts_7</th>\n",
       "      <td>-0.008148</td>\n",
       "      <td>-0.003118</td>\n",
       "      <td>-0.006220</td>\n",
       "      <td>-0.001934</td>\n",
       "      <td>0.006964</td>\n",
       "      <td>0.000758</td>\n",
       "      <td>-0.005161</td>\n",
       "      <td>1.000000</td>\n",
       "      <td>0.006142</td>\n",
       "      <td>-0.001771</td>\n",
       "      <td>-0.004479</td>\n",
       "      <td>-0.006164</td>\n",
       "    </tr>\n",
       "    <tr>\n",
       "      <th>Fts_8</th>\n",
       "      <td>-0.757307</td>\n",
       "      <td>-0.070628</td>\n",
       "      <td>-0.593947</td>\n",
       "      <td>0.430019</td>\n",
       "      <td>0.036169</td>\n",
       "      <td>0.221277</td>\n",
       "      <td>-0.008569</td>\n",
       "      <td>0.006142</td>\n",
       "      <td>1.000000</td>\n",
       "      <td>-0.053010</td>\n",
       "      <td>-0.555205</td>\n",
       "      <td>-0.593932</td>\n",
       "    </tr>\n",
       "    <tr>\n",
       "      <th>Fts_9</th>\n",
       "      <td>0.168417</td>\n",
       "      <td>-0.005827</td>\n",
       "      <td>0.505181</td>\n",
       "      <td>0.155282</td>\n",
       "      <td>0.022352</td>\n",
       "      <td>-0.914963</td>\n",
       "      <td>-0.105569</td>\n",
       "      <td>-0.001771</td>\n",
       "      <td>-0.053010</td>\n",
       "      <td>1.000000</td>\n",
       "      <td>0.859527</td>\n",
       "      <td>0.505146</td>\n",
       "    </tr>\n",
       "    <tr>\n",
       "      <th>Fts_10</th>\n",
       "      <td>0.526896</td>\n",
       "      <td>0.031235</td>\n",
       "      <td>0.722684</td>\n",
       "      <td>-0.091279</td>\n",
       "      <td>0.000410</td>\n",
       "      <td>-0.875212</td>\n",
       "      <td>-0.083378</td>\n",
       "      <td>-0.004479</td>\n",
       "      <td>-0.555205</td>\n",
       "      <td>0.859527</td>\n",
       "      <td>1.000000</td>\n",
       "      <td>0.722647</td>\n",
       "    </tr>\n",
       "    <tr>\n",
       "      <th>Label</th>\n",
       "      <td>0.737641</td>\n",
       "      <td>-0.003978</td>\n",
       "      <td>0.999973</td>\n",
       "      <td>0.145267</td>\n",
       "      <td>-0.003180</td>\n",
       "      <td>-0.430602</td>\n",
       "      <td>0.000707</td>\n",
       "      <td>-0.006164</td>\n",
       "      <td>-0.593932</td>\n",
       "      <td>0.505146</td>\n",
       "      <td>0.722647</td>\n",
       "      <td>1.000000</td>\n",
       "    </tr>\n",
       "  </tbody>\n",
       "</table>\n",
       "</div>"
      ],
      "text/plain": [
       "           Fts_0     Fts_1     Fts_2     Fts_3     Fts_4     Fts_5     Fts_6  \\\n",
       "Fts_0   1.000000  0.066365  0.737645  0.262622 -0.007774 -0.051460  0.007306   \n",
       "Fts_1   0.066365  1.000000 -0.003946 -0.013422 -0.001609  0.000373 -0.001826   \n",
       "Fts_2   0.737645 -0.003946  1.000000  0.145252 -0.003148 -0.430642  0.000742   \n",
       "Fts_3   0.262622 -0.013422  0.145252  1.000000  0.042157  0.255181 -0.002909   \n",
       "Fts_4  -0.007774 -0.001609 -0.003148  0.042157  1.000000 -0.004767  0.008286   \n",
       "Fts_5  -0.051460  0.000373 -0.430642  0.255181 -0.004767  1.000000  0.103159   \n",
       "Fts_6   0.007306 -0.001826  0.000742 -0.002909  0.008286  0.103159  1.000000   \n",
       "Fts_7  -0.008148 -0.003118 -0.006220 -0.001934  0.006964  0.000758 -0.005161   \n",
       "Fts_8  -0.757307 -0.070628 -0.593947  0.430019  0.036169  0.221277 -0.008569   \n",
       "Fts_9   0.168417 -0.005827  0.505181  0.155282  0.022352 -0.914963 -0.105569   \n",
       "Fts_10  0.526896  0.031235  0.722684 -0.091279  0.000410 -0.875212 -0.083378   \n",
       "Label   0.737641 -0.003978  0.999973  0.145267 -0.003180 -0.430602  0.000707   \n",
       "\n",
       "           Fts_7     Fts_8     Fts_9    Fts_10     Label  \n",
       "Fts_0  -0.008148 -0.757307  0.168417  0.526896  0.737641  \n",
       "Fts_1  -0.003118 -0.070628 -0.005827  0.031235 -0.003978  \n",
       "Fts_2  -0.006220 -0.593947  0.505181  0.722684  0.999973  \n",
       "Fts_3  -0.001934  0.430019  0.155282 -0.091279  0.145267  \n",
       "Fts_4   0.006964  0.036169  0.022352  0.000410 -0.003180  \n",
       "Fts_5   0.000758  0.221277 -0.914963 -0.875212 -0.430602  \n",
       "Fts_6  -0.005161 -0.008569 -0.105569 -0.083378  0.000707  \n",
       "Fts_7   1.000000  0.006142 -0.001771 -0.004479 -0.006164  \n",
       "Fts_8   0.006142  1.000000 -0.053010 -0.555205 -0.593932  \n",
       "Fts_9  -0.001771 -0.053010  1.000000  0.859527  0.505146  \n",
       "Fts_10 -0.004479 -0.555205  0.859527  1.000000  0.722647  \n",
       "Label  -0.006164 -0.593932  0.505146  0.722647  1.000000  "
      ]
     },
     "execution_count": 184,
     "metadata": {},
     "output_type": "execute_result"
    }
   ],
   "source": [
    "# Display pairwise Pearson correlation (given the high sample size, I allow Pearson, \n",
    "# but consider Spearman given the non normality) with target\n",
    "# compute all pair wise correlations\n",
    "pairwise_corr = full_dataset.corr()\n",
    "pairwise_corr"
   ]
  },
  {
   "cell_type": "code",
   "execution_count": 185,
   "metadata": {},
   "outputs": [
    {
     "data": {
      "image/png": "[encoded data removed]",
      "text/plain": [
       "<Figure size 432x288 with 1 Axes>"
      ]
     },
     "metadata": {
      "needs_background": "light"
     },
     "output_type": "display_data"
    }
   ],
   "source": [
    "# display correlation coeff for each data feature\n",
    "pairwise_corr['Label'].plot(kind='bar');"
   ]
  },
  {
   "cell_type": "code",
   "execution_count": 186,
   "metadata": {},
   "outputs": [
    {
     "data": {
      "text/plain": [
       "<matplotlib.axes._subplots.AxesSubplot at 0x7fb833151ba8>"
      ]
     },
     "execution_count": 186,
     "metadata": {},
     "output_type": "execute_result"
    },
    {
     "data": {
      "image/png": "[encoded data removed]",
      "text/plain": [
       "<Figure size 432x288 with 1 Axes>"
      ]
     },
     "metadata": {
      "needs_background": "light"
     },
     "output_type": "display_data"
    }
   ],
   "source": [
    "# Want to get a feeling for high correlation coeff, so take absolute values\n",
    "corr_coeff_abs = abs(pairwise_corr['Label'])\n",
    "# Rename columns to avoid future conflict\n",
    "corr_coeff_abs.rename(columns={\"Label\": \"Absolute_Label\"}, inplace = True)\n",
    "corr_coeff_abs.plot(kind='bar')"
   ]
  },
  {
   "cell_type": "markdown",
   "metadata": {},
   "source": [
    "**Fts_2 has a high correlation coeff, but so high that it is suspicious. Maybe due to bimodal nature of the distribution** <br>\n",
    "**Promising data might be Fts_0 & Fts_10, although Fts_10 has a large pick at 0 which might explain the correlation** <br>"
   ]
  },
  {
   "cell_type": "code",
   "execution_count": 187,
   "metadata": {},
   "outputs": [
    {
     "data": {
      "text/html": [
       "<div>\n",
       "<style scoped>\n",
       "    .dataframe tbody tr th:only-of-type {\n",
       "        vertical-align: middle;\n",
       "    }\n",
       "\n",
       "    .dataframe tbody tr th {\n",
       "        vertical-align: top;\n",
       "    }\n",
       "\n",
       "    .dataframe thead th {\n",
       "        text-align: right;\n",
       "    }\n",
       "</style>\n",
       "<table border=\"1\" class=\"dataframe\">\n",
       "  <thead>\n",
       "    <tr style=\"text-align: right;\">\n",
       "      <th></th>\n",
       "      <th>Fts_2</th>\n",
       "      <th>Label</th>\n",
       "    </tr>\n",
       "  </thead>\n",
       "  <tbody>\n",
       "    <tr>\n",
       "      <th>0</th>\n",
       "      <td>10.0</td>\n",
       "      <td>2</td>\n",
       "    </tr>\n",
       "    <tr>\n",
       "      <th>1</th>\n",
       "      <td>11.0</td>\n",
       "      <td>4</td>\n",
       "    </tr>\n",
       "    <tr>\n",
       "      <th>2</th>\n",
       "      <td>9.0</td>\n",
       "      <td>1</td>\n",
       "    </tr>\n",
       "    <tr>\n",
       "      <th>3</th>\n",
       "      <td>8.0</td>\n",
       "      <td>1</td>\n",
       "    </tr>\n",
       "    <tr>\n",
       "      <th>4</th>\n",
       "      <td>9.0</td>\n",
       "      <td>1</td>\n",
       "    </tr>\n",
       "    <tr>\n",
       "      <th>5</th>\n",
       "      <td>13.0</td>\n",
       "      <td>5</td>\n",
       "    </tr>\n",
       "    <tr>\n",
       "      <th>6</th>\n",
       "      <td>11.0</td>\n",
       "      <td>4</td>\n",
       "    </tr>\n",
       "    <tr>\n",
       "      <th>7</th>\n",
       "      <td>9.0</td>\n",
       "      <td>1</td>\n",
       "    </tr>\n",
       "    <tr>\n",
       "      <th>8</th>\n",
       "      <td>12.0</td>\n",
       "      <td>4</td>\n",
       "    </tr>\n",
       "    <tr>\n",
       "      <th>9</th>\n",
       "      <td>8.0</td>\n",
       "      <td>1</td>\n",
       "    </tr>\n",
       "    <tr>\n",
       "      <th>10</th>\n",
       "      <td>8.0</td>\n",
       "      <td>1</td>\n",
       "    </tr>\n",
       "    <tr>\n",
       "      <th>11</th>\n",
       "      <td>9.0</td>\n",
       "      <td>1</td>\n",
       "    </tr>\n",
       "    <tr>\n",
       "      <th>12</th>\n",
       "      <td>9.0</td>\n",
       "      <td>1</td>\n",
       "    </tr>\n",
       "    <tr>\n",
       "      <th>13</th>\n",
       "      <td>9.0</td>\n",
       "      <td>1</td>\n",
       "    </tr>\n",
       "    <tr>\n",
       "      <th>14</th>\n",
       "      <td>9.0</td>\n",
       "      <td>1</td>\n",
       "    </tr>\n",
       "    <tr>\n",
       "      <th>15</th>\n",
       "      <td>8.0</td>\n",
       "      <td>1</td>\n",
       "    </tr>\n",
       "    <tr>\n",
       "      <th>16</th>\n",
       "      <td>8.0</td>\n",
       "      <td>1</td>\n",
       "    </tr>\n",
       "    <tr>\n",
       "      <th>17</th>\n",
       "      <td>9.0</td>\n",
       "      <td>1</td>\n",
       "    </tr>\n",
       "    <tr>\n",
       "      <th>18</th>\n",
       "      <td>9.0</td>\n",
       "      <td>1</td>\n",
       "    </tr>\n",
       "    <tr>\n",
       "      <th>19</th>\n",
       "      <td>8.0</td>\n",
       "      <td>1</td>\n",
       "    </tr>\n",
       "  </tbody>\n",
       "</table>\n",
       "</div>"
      ],
      "text/plain": [
       "    Fts_2  Label\n",
       "0    10.0      2\n",
       "1    11.0      4\n",
       "2     9.0      1\n",
       "3     8.0      1\n",
       "4     9.0      1\n",
       "5    13.0      5\n",
       "6    11.0      4\n",
       "7     9.0      1\n",
       "8    12.0      4\n",
       "9     8.0      1\n",
       "10    8.0      1\n",
       "11    9.0      1\n",
       "12    9.0      1\n",
       "13    9.0      1\n",
       "14    9.0      1\n",
       "15    8.0      1\n",
       "16    8.0      1\n",
       "17    9.0      1\n",
       "18    9.0      1\n",
       "19    8.0      1"
      ]
     },
     "execution_count": 187,
     "metadata": {},
     "output_type": "execute_result"
    }
   ],
   "source": [
    "# Let's explore the relation with Fts_2 a bit more\n",
    "curr_dat = full_dataset['Fts_2']\n",
    "curr_dat = pd.concat([curr_dat.round(decimals = 0),full_dataset['Label']], axis=1)\n",
    "curr_dat.head(20)"
   ]
  },
  {
   "cell_type": "markdown",
   "metadata": {},
   "source": [
    "**Fts_2 is continous data, but there seems to be a strong relation between Fts_2 and the labels in the target** <br>\n",
    "**Relation seems deterministic**"
   ]
  },
  {
   "cell_type": "code",
   "execution_count": 188,
   "metadata": {},
   "outputs": [
    {
     "data": {
      "image/png": "[encoded data removed]",
      "text/plain": [
       "<Figure size 720x720 with 12 Axes>"
      ]
     },
     "metadata": {
      "needs_background": "light"
     },
     "output_type": "display_data"
    }
   ],
   "source": [
    "# As a last visualization check, scatter the features vs target to visualize the corr_coeff\n",
    "ncols = 3\n",
    "nrows = int(np.ceil(len(imported_dat.columns) / (1.0*ncols)))\n",
    "fig, axes = plt.subplots(nrows=nrows, ncols=ncols, figsize=(10, 10))\n",
    "\n",
    "# Lazy counter so we can remove unwated axes\n",
    "counter = 0\n",
    "for i in range(nrows):\n",
    "    for j in range(ncols):\n",
    "        ax = axes[i][j]\n",
    "        \n",
    "        # Plot when we have columns left\n",
    "        if counter < len(imported_dat.columns):\n",
    "            # bootstraping might not be important here but I find it often to increase safety in statistical analysis\n",
    "            ax.scatter(target, imported_dat[imported_dat.columns[counter]])\n",
    "            ax.set_ylabel('counts')\n",
    "            leg = ax.legend(loc='upper right')\n",
    "        # Remove axis when we no longer have columns to plot\n",
    "        else:\n",
    "            ax.set_axis_off()\n",
    "\n",
    "        counter += 1"
   ]
  },
  {
   "cell_type": "markdown",
   "metadata": {},
   "source": [
    "<div class=\"alert alert-block alert-info\">\n",
    "<b>Intermediate Conclusion on relation between target & vector data:</b> <br> Hich corr_coeff with Fts_2 suggest that the labels in the target data might have been generated based on Fts_2 values <br>    \n",
    "Based on corr_coeff, interesting vectors for modeling might be Fts_0, Fts_8 & Fts_10. Fts_10 high corr_coeff is probably due to low variance in data distribution across labels. <br>\n",
    "Hence, I would focus on Fts_0, Fts_1 and Fts_8 for predictive power. <br>\n",
    "</div>"
   ]
  },
  {
   "cell_type": "markdown",
   "metadata": {},
   "source": [
    "<div class=\"alert alert-block alert-warning\">\n",
    "<b>There is an U-shape (inverted for Fts_0 & 1) which suggest that linear approaches might be weak in predicting the data when using these features.<b>\n",
    "</div>"
   ]
  },
  {
   "cell_type": "markdown",
   "metadata": {},
   "source": [
    "**1.3 Missing data points?** "
   ]
  },
  {
   "cell_type": "code",
   "execution_count": 306,
   "metadata": {},
   "outputs": [
    {
     "data": {
      "text/plain": [
       "Fts_0     0\n",
       "Fts_1     0\n",
       "Fts_2     0\n",
       "Fts_3     0\n",
       "Fts_4     0\n",
       "Fts_5     0\n",
       "Fts_6     0\n",
       "Fts_7     0\n",
       "Fts_8     0\n",
       "Fts_9     0\n",
       "Fts_10    0\n",
       "Label     0\n",
       "dtype: int64"
      ]
     },
     "execution_count": 306,
     "metadata": {},
     "output_type": "execute_result"
    }
   ],
   "source": [
    "# Look for missing data points in the dataset\n",
    "# Screening of classic missint data points labels was integrated in import data code\n",
    "full_dataset.isnull().sum()"
   ]
  },
  {
   "cell_type": "markdown",
   "metadata": {},
   "source": [
    "**No missing data points. That is good.**"
   ]
  },
  {
   "cell_type": "markdown",
   "metadata": {},
   "source": [
    "## 2. Predictive analysis with a proper validation process."
   ]
  },
  {
   "cell_type": "markdown",
   "metadata": {},
   "source": [
    "### 2.1. Predictive analysis"
   ]
  },
  {
   "cell_type": "code",
   "execution_count": 189,
   "metadata": {},
   "outputs": [
    {
     "data": {
      "text/html": [
       "<div>\n",
       "<style scoped>\n",
       "    .dataframe tbody tr th:only-of-type {\n",
       "        vertical-align: middle;\n",
       "    }\n",
       "\n",
       "    .dataframe tbody tr th {\n",
       "        vertical-align: top;\n",
       "    }\n",
       "\n",
       "    .dataframe thead th {\n",
       "        text-align: right;\n",
       "    }\n",
       "</style>\n",
       "<table border=\"1\" class=\"dataframe\">\n",
       "  <thead>\n",
       "    <tr style=\"text-align: right;\">\n",
       "      <th></th>\n",
       "      <th>Fts_0</th>\n",
       "      <th>Fts_1</th>\n",
       "      <th>Fts_2</th>\n",
       "      <th>Fts_3</th>\n",
       "      <th>Fts_4</th>\n",
       "      <th>Fts_5</th>\n",
       "      <th>Fts_6</th>\n",
       "      <th>Fts_7</th>\n",
       "      <th>Fts_8</th>\n",
       "      <th>Fts_9</th>\n",
       "      <th>Fts_10</th>\n",
       "    </tr>\n",
       "  </thead>\n",
       "  <tbody>\n",
       "    <tr>\n",
       "      <th>0</th>\n",
       "      <td>50</td>\n",
       "      <td>21</td>\n",
       "      <td>9.516114</td>\n",
       "      <td>77</td>\n",
       "      <td>0</td>\n",
       "      <td>28</td>\n",
       "      <td>0</td>\n",
       "      <td>0.35</td>\n",
       "      <td>27</td>\n",
       "      <td>48</td>\n",
       "      <td>22</td>\n",
       "    </tr>\n",
       "    <tr>\n",
       "      <th>1</th>\n",
       "      <td>55</td>\n",
       "      <td>0</td>\n",
       "      <td>11.495707</td>\n",
       "      <td>92</td>\n",
       "      <td>0</td>\n",
       "      <td>0</td>\n",
       "      <td>26</td>\n",
       "      <td>0.35</td>\n",
       "      <td>36</td>\n",
       "      <td>92</td>\n",
       "      <td>56</td>\n",
       "    </tr>\n",
       "    <tr>\n",
       "      <th>2</th>\n",
       "      <td>53</td>\n",
       "      <td>0</td>\n",
       "      <td>8.509515</td>\n",
       "      <td>82</td>\n",
       "      <td>0</td>\n",
       "      <td>52</td>\n",
       "      <td>-5</td>\n",
       "      <td>0.35</td>\n",
       "      <td>29</td>\n",
       "      <td>30</td>\n",
       "      <td>2</td>\n",
       "    </tr>\n",
       "    <tr>\n",
       "      <th>3</th>\n",
       "      <td>37</td>\n",
       "      <td>0</td>\n",
       "      <td>8.491525</td>\n",
       "      <td>76</td>\n",
       "      <td>0</td>\n",
       "      <td>28</td>\n",
       "      <td>18</td>\n",
       "      <td>0.35</td>\n",
       "      <td>40</td>\n",
       "      <td>48</td>\n",
       "      <td>8</td>\n",
       "    </tr>\n",
       "    <tr>\n",
       "      <th>4</th>\n",
       "      <td>37</td>\n",
       "      <td>0</td>\n",
       "      <td>8.501128</td>\n",
       "      <td>79</td>\n",
       "      <td>0</td>\n",
       "      <td>34</td>\n",
       "      <td>-26</td>\n",
       "      <td>0.35</td>\n",
       "      <td>43</td>\n",
       "      <td>46</td>\n",
       "      <td>2</td>\n",
       "    </tr>\n",
       "    <tr>\n",
       "      <th>5</th>\n",
       "      <td>85</td>\n",
       "      <td>0</td>\n",
       "      <td>12.512742</td>\n",
       "      <td>88</td>\n",
       "      <td>-4</td>\n",
       "      <td>6</td>\n",
       "      <td>1</td>\n",
       "      <td>0.35</td>\n",
       "      <td>3</td>\n",
       "      <td>83</td>\n",
       "      <td>80</td>\n",
       "    </tr>\n",
       "    <tr>\n",
       "      <th>6</th>\n",
       "      <td>56</td>\n",
       "      <td>0</td>\n",
       "      <td>11.484501</td>\n",
       "      <td>81</td>\n",
       "      <td>0</td>\n",
       "      <td>-4</td>\n",
       "      <td>11</td>\n",
       "      <td>0.35</td>\n",
       "      <td>25</td>\n",
       "      <td>86</td>\n",
       "      <td>62</td>\n",
       "    </tr>\n",
       "    <tr>\n",
       "      <th>7</th>\n",
       "      <td>55</td>\n",
       "      <td>-1</td>\n",
       "      <td>8.506949</td>\n",
       "      <td>95</td>\n",
       "      <td>-3</td>\n",
       "      <td>54</td>\n",
       "      <td>-4</td>\n",
       "      <td>0.35</td>\n",
       "      <td>40</td>\n",
       "      <td>41</td>\n",
       "      <td>2</td>\n",
       "    </tr>\n",
       "    <tr>\n",
       "      <th>8</th>\n",
       "      <td>53</td>\n",
       "      <td>8</td>\n",
       "      <td>11.509974</td>\n",
       "      <td>77</td>\n",
       "      <td>0</td>\n",
       "      <td>28</td>\n",
       "      <td>0</td>\n",
       "      <td>0.35</td>\n",
       "      <td>23</td>\n",
       "      <td>48</td>\n",
       "      <td>24</td>\n",
       "    </tr>\n",
       "    <tr>\n",
       "      <th>9</th>\n",
       "      <td>37</td>\n",
       "      <td>0</td>\n",
       "      <td>8.494062</td>\n",
       "      <td>101</td>\n",
       "      <td>-7</td>\n",
       "      <td>28</td>\n",
       "      <td>0</td>\n",
       "      <td>0.35</td>\n",
       "      <td>64</td>\n",
       "      <td>73</td>\n",
       "      <td>8</td>\n",
       "    </tr>\n",
       "  </tbody>\n",
       "</table>\n",
       "</div>"
      ],
      "text/plain": [
       "   Fts_0  Fts_1      Fts_2  Fts_3  Fts_4  Fts_5  Fts_6  Fts_7  Fts_8  Fts_9  \\\n",
       "0     50     21   9.516114     77      0     28      0   0.35     27     48   \n",
       "1     55      0  11.495707     92      0      0     26   0.35     36     92   \n",
       "2     53      0   8.509515     82      0     52     -5   0.35     29     30   \n",
       "3     37      0   8.491525     76      0     28     18   0.35     40     48   \n",
       "4     37      0   8.501128     79      0     34    -26   0.35     43     46   \n",
       "5     85      0  12.512742     88     -4      6      1   0.35      3     83   \n",
       "6     56      0  11.484501     81      0     -4     11   0.35     25     86   \n",
       "7     55     -1   8.506949     95     -3     54     -4   0.35     40     41   \n",
       "8     53      8  11.509974     77      0     28      0   0.35     23     48   \n",
       "9     37      0   8.494062    101     -7     28      0   0.35     64     73   \n",
       "\n",
       "   Fts_10  \n",
       "0      22  \n",
       "1      56  \n",
       "2       2  \n",
       "3       8  \n",
       "4       2  \n",
       "5      80  \n",
       "6      62  \n",
       "7       2  \n",
       "8      24  \n",
       "9       8  "
      ]
     },
     "execution_count": 189,
     "metadata": {},
     "output_type": "execute_result"
    }
   ],
   "source": [
    "# Relook at raw data\n",
    "imported_dat.head(10)"
   ]
  },
  {
   "cell_type": "markdown",
   "metadata": {},
   "source": [
    "**While regression typically aims at predicting continous outcomes, not the case of our target here, I still want to get an idea at how well a linea approach would fit the data**"
   ]
  },
  {
   "cell_type": "markdown",
   "metadata": {},
   "source": [
    "### 2.1.1. Linear model"
   ]
  },
  {
   "cell_type": "code",
   "execution_count": 190,
   "metadata": {},
   "outputs": [],
   "source": [
    "## Note: The target is categorical. Regressions do not apply, but I'll do it for model comparison purposes\n",
    "## Given the dataset, I'm going to focus on Fts_0, Fts_1 & Fts_8 for predictions"
   ]
  },
  {
   "cell_type": "code",
   "execution_count": 12,
   "metadata": {},
   "outputs": [
    {
     "name": "stdout",
     "output_type": "stream",
     "text": [
      "Fts_0\n",
      "Coefficients: \n",
      " [0.08127044]\n",
      "Mean squared error: 0.83\n",
      "Variance score: 0.54\n",
      "Variance score: -14.84\n",
      "Fts_8\n",
      "Coefficients: \n",
      " [-0.06110829]\n",
      "Mean squared error: 1.17\n",
      "Variance score: 0.35\n",
      "Variance score: -7.61\n",
      "Fts_10\n",
      "Coefficients: \n",
      " [0.03817821]\n",
      "Mean squared error: 0.85\n",
      "Variance score: 0.53\n",
      "Variance score: -0.15\n"
     ]
    },
    {
     "data": {
      "image/png": "[encoded data removed]",
      "text/plain": [
       "<Figure size 720x720 with 3 Axes>"
      ]
     },
     "metadata": {
      "needs_background": "light"
     },
     "output_type": "display_data"
    }
   ],
   "source": [
    "# Import estimator class\n",
    "from sklearn.linear_model import LinearRegression\n",
    "from sklearn.model_selection import train_test_split\n",
    "import random\n",
    "from sklearn.metrics import mean_squared_error\n",
    "from sklearn.metrics import r2_score\n",
    "\n",
    "feature_to_use = ['Fts_0','Fts_8','Fts_10']\n",
    "#select columns of interest\n",
    "data  = full_dataset.loc[:,feature_to_use]\n",
    "#reload target in case operations were run on the array in previous cells\n",
    "target = full_dataset['Label']\n",
    "#compute number of rows based on number of columns inputed\n",
    "ncols = 3\n",
    "nrows = int(np.ceil(len(data.columns) / (1.0*ncols)))\n",
    "#prepare subplots\n",
    "fig, axes = plt.subplots(nrows=nrows, ncols=ncols, figsize=(10, 10), squeeze=False)\n",
    "       \n",
    "coefficients = []\n",
    "for ndat in range(len(data.columns)):\n",
    "    feature = data.loc[:,feature_to_use[ndat]]\n",
    "    # Split the data and the target into training/testing sets ; 70/30 \n",
    "    data_train, data_test, target_train, target_test = train_test_split(feature, target, test_size=0.20, random_state=42)\n",
    "\n",
    "    # Initialize estimator model with specific parameters\n",
    "    reg = LinearRegression(normalize=True)\n",
    "\n",
    "    # I sometimes get a memory error. Code below non-randomly down-samples the data\n",
    "    #data_train   = data_train[0:100000]\n",
    "    #target_train = target_train[0:100000]\n",
    "    #data_test    = data_test[0:100000]\n",
    "    #target_test  = target_test[0:100000]\n",
    "\n",
    "    # Prepare the data for model fit\n",
    "    data_train = pd.Series(data_train).values\n",
    "    data_train = np.expand_dims(data_train, axis=1)\n",
    "\n",
    "    # Train the model using the training set\n",
    "    reg.fit(data_train, target_train)\n",
    "\n",
    "    # Prepare test data\n",
    "    target_test = pd.Series(target_test).values\n",
    "    target_test = np.expand_dims(target_test, axis=1)\n",
    "    data_test = pd.Series(data_test).values\n",
    "    data_test = np.expand_dims(data_test, axis=1)\n",
    "\n",
    "    # Predict output for testing set\n",
    "    data_pred = reg.predict(data_test)\n",
    "    reg\n",
    "    \n",
    "    # Index subplot\n",
    "    ax = axes[0][ndat]\n",
    "\n",
    "    # Plot\n",
    "    ax.scatter(target_test, data_test, color='black')\n",
    "    ax.plot(data_pred, data_test, color='blue', linewidth=3, label = feature_to_use[ndat])\n",
    "    ax.set_ylabel('counts')\n",
    "    ax.set_xlabel('target values')\n",
    "    leg = ax.legend(loc='upper right')\n",
    "    # Print current feature\n",
    "    print(feature_to_use[ndat])\n",
    "    # Print coefficients\n",
    "    print('Coefficients: \\n', reg.coef_)\n",
    "    # Print mean squared error\n",
    "    print(\"Mean squared error: %.2f\" % mean_squared_error(target_test, data_pred))\n",
    "    # Explained variance score\n",
    "    print('Variance score: %.2f' % r2_score(target_test, data_pred))\n",
    "    print('Variance score: %.2f' % reg.score(target_test, data_pred))\n",
    "    \n",
    "    # Store the estimated coefficients\n",
    "    coefficients.append(reg.coef_)"
   ]
  },
  {
   "cell_type": "code",
   "execution_count": 7,
   "metadata": {},
   "outputs": [
    {
     "data": {
      "text/plain": [
       "<matplotlib.axes._subplots.AxesSubplot at 0x7f0f87de5c18>"
      ]
     },
     "execution_count": 7,
     "metadata": {},
     "output_type": "execute_result"
    },
    {
     "data": {
      "image/png": "[encoded data removed]",
      "text/plain": [
       "<Figure size 720x396 with 1 Axes>"
      ]
     },
     "metadata": {
      "needs_background": "light"
     },
     "output_type": "display_data"
    }
   ],
   "source": [
    "# From list to np array\n",
    "coefficients = np.asarray(coefficients)\n",
    "# concatenate within the array\n",
    "coefficients = np.concatenate(coefficients)\n",
    "# plot the estimated coefficients\n",
    "feature_coef = pd.DataFrame(list(zip(feature_to_use, coefficients)), columns =['feature', 'coefficient'])\n",
    "feature_coef\n",
    "feature_coef.set_index('feature').plot(kind='bar', figsize=(10.0, 5.5))"
   ]
  },
  {
   "cell_type": "markdown",
   "metadata": {},
   "source": [
    "<div class=\"alert alert-block alert-info\">\n",
    "<b> Intermediate observations on the linear fit:</b> <br> The linear fit does relatively okay for the first labels of the target, but overpredicts for label 4 6 & 7. That was already expected based on the earlier scatter plot<br>\n",
    "However, scores are quite poor... <br>\n",
    "Given the U shaped distribution, isotonic regression won't work either <br>\n",
    "In any case, given the categorical nature of the target, classifier or decision tress would do better"
   ]
  },
  {
   "cell_type": "markdown",
   "metadata": {},
   "source": [
    "<div class=\"alert alert-block alert-warning\">\n",
    "<b>Let's try something else.<b> <br>\n",
    "We could try a SVM classifier, but that would be for predicting dichotomous data. <br>\n",
    "Let's try a random forest algorithm, and consider neural networks for final blow.\n",
    "</div>"
   ]
  },
  {
   "cell_type": "markdown",
   "metadata": {},
   "source": [
    "### 2.1.2. Classifier"
   ]
  },
  {
   "cell_type": "code",
   "execution_count": 25,
   "metadata": {},
   "outputs": [
    {
     "data": {
      "text/plain": [
       "(43500, 1)"
      ]
     },
     "execution_count": 25,
     "metadata": {},
     "output_type": "execute_result"
    }
   ],
   "source": [
    "# Random forest regressor\n",
    "# Define data to be used to predict\n",
    "feature_to_use = 'Fts_0'\n",
    "feature = imported_dat[feature_to_use]\n",
    "target = full_dataset['Label']\n",
    "# Prepare data for model\n",
    "feature = np.array(feature)\n",
    "target  = np.array(target)\n",
    "feature = np.expand_dims(feature, axis=1)\n",
    "target = np.expand_dims(target, axis=1)\n",
    "target.shape"
   ]
  },
  {
   "cell_type": "code",
   "execution_count": 27,
   "metadata": {},
   "outputs": [
    {
     "name": "stdout",
     "output_type": "stream",
     "text": [
      "Training Features Shape: (34800, 1)\n",
      "Training Labels Shape: (34800, 1)\n",
      "Testing Features Shape: (8700, 1)\n",
      "Testing Labels Shape: (8700, 1)\n"
     ]
    }
   ],
   "source": [
    "# Split train & test for data and target\n",
    "data_train, data_test, target_train, target_test = train_test_split(feature, target, test_size=0.20, random_state=42)\n",
    "\n",
    "print('Training Features Shape:', data_train.shape)\n",
    "print('Training Labels Shape:', target_train.shape)\n",
    "print('Testing Features Shape:', data_test.shape)\n",
    "print('Testing Labels Shape:', target_test.shape)"
   ]
  },
  {
   "cell_type": "code",
   "execution_count": 28,
   "metadata": {},
   "outputs": [
    {
     "name": "stderr",
     "output_type": "stream",
     "text": [
      "/home/julien/anaconda3/lib/python3.7/site-packages/ipykernel_launcher.py:8: DataConversionWarning: A column-vector y was passed when a 1d array was expected. Please change the shape of y to (n_samples,), for example using ravel().\n",
      "  \n"
     ]
    },
    {
     "data": {
      "text/plain": [
       "RandomForestRegressor(bootstrap=True, criterion='mse', max_depth=None,\n",
       "           max_features='auto', max_leaf_nodes=None,\n",
       "           min_impurity_decrease=0.0, min_impurity_split=None,\n",
       "           min_samples_leaf=1, min_samples_split=2,\n",
       "           min_weight_fraction_leaf=0.0, n_estimators=1000, n_jobs=None,\n",
       "           oob_score=False, random_state=42, verbose=0, warm_start=False)"
      ]
     },
     "execution_count": 28,
     "metadata": {},
     "output_type": "execute_result"
    }
   ],
   "source": [
    "# Import the model we are using\n",
    "from sklearn.ensemble import RandomForestRegressor\n",
    "\n",
    "# Instantiate model with 1000 decision trees\n",
    "rf = RandomForestRegressor(n_estimators = 1000, random_state = 42)\n",
    "\n",
    "# Train the model on training data\n",
    "rf.fit(data_train, target_train)"
   ]
  },
  {
   "cell_type": "code",
   "execution_count": 29,
   "metadata": {},
   "outputs": [
    {
     "name": "stdout",
     "output_type": "stream",
     "text": [
      "Mean Absolute Error: 1.109517141976214 label.\n"
     ]
    }
   ],
   "source": [
    "# Use the forest's predict method on the test data\n",
    "predictions = rf.predict(data_test)\n",
    "\n",
    "# Calculate the absolute errors\n",
    "errors = abs(predictions - target_test)\n",
    "\n",
    "# Print out the mean absolute error (mae)\n",
    "print('Mean Absolute Error:', np.mean(errors), 'label.')"
   ]
  },
  {
   "cell_type": "code",
   "execution_count": 21,
   "metadata": {},
   "outputs": [
    {
     "name": "stdout",
     "output_type": "stream",
     "text": [
      "Accuracy: 31.97 %.\n"
     ]
    }
   ],
   "source": [
    "# Calculate mean absolute percentage error (MAPE)\n",
    "mape = 100 * (errors / target_test)\n",
    "\n",
    "# Calculate and display accuracy\n",
    "accuracy = 100 - np.mean(mape)\n",
    "print('Accuracy:', round(accuracy, 2), '%.')"
   ]
  },
  {
   "cell_type": "code",
   "execution_count": 30,
   "metadata": {},
   "outputs": [],
   "source": [
    "# Now let's compare to the linear model\n",
    "from sklearn.model_selection import KFold\n",
    "from sklearn.model_selection import cross_val_score\n",
    "from sklearn.linear_model import LinearRegression\n",
    "\n",
    "# create 5-Fold iterator with shuffle\n",
    "cv = KFold(n_splits=5, shuffle=True)"
   ]
  },
  {
   "cell_type": "code",
   "execution_count": 31,
   "metadata": {},
   "outputs": [
    {
     "name": "stdout",
     "output_type": "stream",
     "text": [
      "cv scores: [0.5446988  0.54170288 0.53147252 0.54434485 0.55730821]\n"
     ]
    }
   ],
   "source": [
    "# compute the cross-validated score for the LinearRegression\n",
    "lr_scores = cross_val_score(LinearRegression(), feature, target, cv=cv)\n",
    "\n",
    "print(\"cv scores: {}\".format(lr_scores))"
   ]
  },
  {
   "cell_type": "code",
   "execution_count": 32,
   "metadata": {},
   "outputs": [
    {
     "name": "stderr",
     "output_type": "stream",
     "text": [
      "/home/julien/anaconda3/lib/python3.7/site-packages/sklearn/ensemble/forest.py:246: FutureWarning: The default value of n_estimators will change from 10 in version 0.20 to 100 in 0.22.\n",
      "  \"10 in version 0.20 to 100 in 0.22.\", FutureWarning)\n",
      "/home/julien/anaconda3/lib/python3.7/site-packages/sklearn/model_selection/_validation.py:528: DataConversionWarning: A column-vector y was passed when a 1d array was expected. Please change the shape of y to (n_samples,), for example using ravel().\n",
      "  estimator.fit(X_train, y_train, **fit_params)\n",
      "/home/julien/anaconda3/lib/python3.7/site-packages/sklearn/ensemble/forest.py:246: FutureWarning: The default value of n_estimators will change from 10 in version 0.20 to 100 in 0.22.\n",
      "  \"10 in version 0.20 to 100 in 0.22.\", FutureWarning)\n",
      "/home/julien/anaconda3/lib/python3.7/site-packages/sklearn/model_selection/_validation.py:528: DataConversionWarning: A column-vector y was passed when a 1d array was expected. Please change the shape of y to (n_samples,), for example using ravel().\n",
      "  estimator.fit(X_train, y_train, **fit_params)\n",
      "/home/julien/anaconda3/lib/python3.7/site-packages/sklearn/ensemble/forest.py:246: FutureWarning: The default value of n_estimators will change from 10 in version 0.20 to 100 in 0.22.\n",
      "  \"10 in version 0.20 to 100 in 0.22.\", FutureWarning)\n",
      "/home/julien/anaconda3/lib/python3.7/site-packages/sklearn/model_selection/_validation.py:528: DataConversionWarning: A column-vector y was passed when a 1d array was expected. Please change the shape of y to (n_samples,), for example using ravel().\n",
      "  estimator.fit(X_train, y_train, **fit_params)\n",
      "/home/julien/anaconda3/lib/python3.7/site-packages/sklearn/ensemble/forest.py:246: FutureWarning: The default value of n_estimators will change from 10 in version 0.20 to 100 in 0.22.\n",
      "  \"10 in version 0.20 to 100 in 0.22.\", FutureWarning)\n",
      "/home/julien/anaconda3/lib/python3.7/site-packages/sklearn/model_selection/_validation.py:528: DataConversionWarning: A column-vector y was passed when a 1d array was expected. Please change the shape of y to (n_samples,), for example using ravel().\n",
      "  estimator.fit(X_train, y_train, **fit_params)\n"
     ]
    },
    {
     "name": "stdout",
     "output_type": "stream",
     "text": [
      "cv scores: [0.80824074 0.81372379 0.80079421 0.80653979 0.80134593]\n"
     ]
    },
    {
     "name": "stderr",
     "output_type": "stream",
     "text": [
      "/home/julien/anaconda3/lib/python3.7/site-packages/sklearn/ensemble/forest.py:246: FutureWarning: The default value of n_estimators will change from 10 in version 0.20 to 100 in 0.22.\n",
      "  \"10 in version 0.20 to 100 in 0.22.\", FutureWarning)\n",
      "/home/julien/anaconda3/lib/python3.7/site-packages/sklearn/model_selection/_validation.py:528: DataConversionWarning: A column-vector y was passed when a 1d array was expected. Please change the shape of y to (n_samples,), for example using ravel().\n",
      "  estimator.fit(X_train, y_train, **fit_params)\n"
     ]
    }
   ],
   "source": [
    "# compute the cross-validated score for the RandomForestRegressor\n",
    "rf_scores = cross_val_score(RandomForestRegressor(), feature, target, cv=cv)\n",
    "\n",
    "print(\"cv scores: {}\".format(rf_scores))"
   ]
  },
  {
   "cell_type": "code",
   "execution_count": 33,
   "metadata": {},
   "outputs": [
    {
     "data": {
      "image/png": "[encoded data removed]",
      "text/plain": [
       "<Figure size 432x288 with 1 Axes>"
      ]
     },
     "metadata": {
      "needs_background": "light"
     },
     "output_type": "display_data"
    }
   ],
   "source": [
    "results = pd.DataFrame([lr_scores, rf_scores], \n",
    "                       index=['linear regression', 'random forest regressor'],\n",
    "                       columns = [\"split_{}\".format(k) for k in range(cv.n_splits)]).T\n",
    "ax = results.boxplot()\n",
    "ax.set_ylabel('$R^2$');"
   ]
  }
 ],
 "metadata": {
  "kernelspec": {
   "display_name": "Python 3",
   "language": "python",
   "name": "python3"
  },
  "language_info": {
   "codemirror_mode": {
    "name": "ipython",
    "version": 3
   },
   "file_extension": ".py",
   "mimetype": "text/x-python",
   "name": "python",
   "nbconvert_exporter": "python",
   "pygments_lexer": "ipython3",
   "version": "3.7.0"
  }
 },
 "nbformat": 4,
 "nbformat_minor": 2
}
